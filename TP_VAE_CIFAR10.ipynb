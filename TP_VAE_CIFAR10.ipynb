{
  "nbformat": 4,
  "nbformat_minor": 0,
  "metadata": {
    "colab": {
      "name": "TP_VAE_CIFAR10.ipynb",
      "provenance": [],
      "authorship_tag": "ABX9TyMeuIY1toEi51sz59HsuPIQ",
      "include_colab_link": true
    },
    "kernelspec": {
      "name": "python3",
      "display_name": "Python 3"
    }
  },
  "cells": [
    {
      "cell_type": "markdown",
      "metadata": {
        "id": "view-in-github",
        "colab_type": "text"
      },
      "source": [
        "<a href=\"https://colab.research.google.com/github/proubaud/TP_VAE_2020/blob/master/TP_VAE_CIFAR10.ipynb\" target=\"_parent\"><img src=\"https://colab.research.google.com/assets/colab-badge.svg\" alt=\"Open In Colab\"/></a>"
      ]
    },
    {
      "cell_type": "markdown",
      "metadata": {
        "id": "cStVkXx9qJei",
        "colab_type": "text"
      },
      "source": [
        "# IMPORTS"
      ]
    },
    {
      "cell_type": "code",
      "metadata": {
        "id": "WrA6q0PgpKqF",
        "colab_type": "code",
        "colab": {}
      },
      "source": [
        "from __future__ import print_function\n",
        "import argparse\n",
        "import torch\n",
        "import torch.utils.data\n",
        "from torch import nn, optim\n",
        "from torch.nn import functional as F\n",
        "from torchvision import datasets, transforms\n",
        "from torchvision.utils import save_image\n",
        "import numpy as np\n",
        "import IPython.display\n",
        "import PIL\n",
        "import matplotlib.pyplot as plt"
      ],
      "execution_count": 0,
      "outputs": []
    },
    {
      "cell_type": "markdown",
      "metadata": {
        "id": "IJ5LkcPZqOYf",
        "colab_type": "text"
      },
      "source": [
        "# GLOBAL PARAMETERS"
      ]
    },
    {
      "cell_type": "code",
      "metadata": {
        "id": "3n40TLjOpK0w",
        "colab_type": "code",
        "colab": {}
      },
      "source": [
        "BATCH_SIZE = ___ # 16, 32, 64, 128, 256\n",
        "EPOCHS = ___ # between 2 and 50 :)\n",
        "LEARNING_RATE = ___ # between 1e-1 and 1e-5\n",
        "\n",
        "LOG_INTERVAL = 10 "
      ],
      "execution_count": 0,
      "outputs": []
    },
    {
      "cell_type": "markdown",
      "metadata": {
        "id": "2Yyf3sKLqWkY",
        "colab_type": "text"
      },
      "source": [
        "# DATA LOADING"
      ]
    },
    {
      "cell_type": "code",
      "metadata": {
        "id": "0HRhGwhCpK5G",
        "colab_type": "code",
        "outputId": "5ee1dae7-70bf-4e00-a344-a2249a9814a7",
        "colab": {
          "base_uri": "https://localhost:8080/",
          "height": 35
        }
      },
      "source": [
        "#container for training data\n",
        "train_loader = torch.utils.data.DataLoader(\n",
        "    datasets.CIFAR10('../data', train=True, download=True,\n",
        "                   transform=transforms.ToTensor()),\n",
        "    batch_size= ___ , shuffle=True)\n",
        "\n",
        "#container for testing data\n",
        "test_loader = torch.utils.data.DataLoader(\n",
        "    datasets.CIFAR10('../data', train= ___ , transform=transforms.ToTensor()),\n",
        "    batch_size= ___ , shuffle=True)"
      ],
      "execution_count": 0,
      "outputs": [
        {
          "output_type": "stream",
          "text": [
            "Files already downloaded and verified\n"
          ],
          "name": "stdout"
        }
      ]
    },
    {
      "cell_type": "markdown",
      "metadata": {
        "id": "PyfxCH1IqkW6",
        "colab_type": "text"
      },
      "source": [
        "# MODEL DEFINITION"
      ]
    },
    {
      "cell_type": "code",
      "metadata": {
        "id": "16Fn58gjpLAr",
        "colab_type": "code",
        "colab": {}
      },
      "source": [
        "class VAE(nn.Module):\n",
        "\n",
        "    def __init__(self):\n",
        "        super(VAE, self).__init__()\n",
        "        self.fc1 = nn.Linear( ___ , 400)\n",
        "        self.fc21 = nn.Linear(400, 20)\n",
        "        self.fc22 = nn.Linear(400, 20)\n",
        "        self.fc3 = nn.Linear(20, 400)\n",
        "        self.fc4 = nn.Linear(400, ___ )\n",
        "\n",
        "    # Defines the path through the model\n",
        "    # Encode --> Reparametrize --> Decode\n",
        "    def forward(self, x):\n",
        "        mu, logvar = self. ___ (x.view(-1, ___ ))\n",
        "        z = self. ___ (mu, logvar)\n",
        "        return self. ___ (z), mu, logvar\n",
        "\n",
        "    def encode(self, x):\n",
        "        h1 = F.relu(self.fc1(x))\n",
        "        return self.fc21(h1), self.fc22(h1)\n",
        "\n",
        "    def reparameterize(self, mu, logvar):\n",
        "        std = torch.exp(0.5*logvar)\n",
        "        eps = torch.randn_like(std)\n",
        "        return mu + eps*std\n",
        "\n",
        "    def decode(self, z):\n",
        "        h3 = F.relu(self.fc3(z))\n",
        "        return torch.sigmoid(self.fc4(h3))"
      ],
      "execution_count": 0,
      "outputs": []
    },
    {
      "cell_type": "code",
      "metadata": {
        "id": "zbrSU39xpLQO",
        "colab_type": "code",
        "colab": {}
      },
      "source": [
        "# Reconstruction + KL divergence losses summed over all elements and batch\n",
        "def loss_function(recon_x, x, mu, logvar):\n",
        "\n",
        "    BCE = F.binary_cross_entropy(recon_x, x.view(-1, ___ ), reduction='sum')\n",
        "\n",
        "    # Kingma and Welling. Auto-Encoding Variational Bayes. ICLR, 2014\n",
        "    # https://arxiv.org/abs/1312.6114\n",
        "    # KLD = -0.5 * sum(1 + logvar - mu^2 - logvar.exp())\n",
        "\n",
        "    KLD = ___\n",
        "\n",
        "    return BCE + KLD"
      ],
      "execution_count": 0,
      "outputs": []
    },
    {
      "cell_type": "code",
      "metadata": {
        "id": "8_Mp6Y7FwBQ-",
        "colab_type": "code",
        "colab": {}
      },
      "source": [
        "# Model and optimizer definition\n",
        "model = ___\n",
        "optimizer = optim.Adam(model.parameters(), lr= ___ )"
      ],
      "execution_count": 0,
      "outputs": []
    },
    {
      "cell_type": "code",
      "metadata": {
        "id": "FTGQbViepLUE",
        "colab_type": "code",
        "colab": {}
      },
      "source": [
        "def train(epoch):\n",
        "\n",
        "    #call the train method of the model then reset the train_loss\n",
        "    ___\n",
        "    ___\n",
        "\n",
        "    for batch_idx, (data, _) in enumerate(train_loader):\n",
        "        optimizer.zero_grad()\n",
        "        recon_batch, mu, logvar = model(data)\n",
        "\n",
        "        loss = loss_function(recon_batch, data, mu, logvar)\n",
        "        loss.backward()\n",
        "        train_loss += loss.item()\n",
        "        \n",
        "        optimizer.step()\n",
        "        \n",
        "        if batch_idx % LOG_INTERVAL == 0:\n",
        "            print('Train Epoch: {} [{}/{} ({:.0f}%)]\\tLoss: {:.6f}'.format(\n",
        "                epoch, batch_idx * len(data), len(train_loader.dataset),\n",
        "                100. * batch_idx / len(train_loader),\n",
        "                loss.item() / len(data)))\n",
        "    print('====> Epoch: {} Average loss: {:.4f}'.format(\n",
        "          epoch, train_loss / len(train_loader.dataset)))"
      ],
      "execution_count": 0,
      "outputs": []
    },
    {
      "cell_type": "code",
      "metadata": {
        "id": "AIGhEJpMpLOU",
        "colab_type": "code",
        "colab": {}
      },
      "source": [
        "def test(epoch):\n",
        "\n",
        "    #call the eval method of the model then reset the test_loss\n",
        "    ___\n",
        "    ___\n",
        "    \n",
        "    with torch.no_grad():\n",
        "        for i, (data, _) in enumerate(test_loader):\n",
        "          \n",
        "            recon_batch, mu, logvar = model(data)\n",
        "            test_loss += loss_function(recon_batch, data, mu, logvar).item()\n",
        "            if(i<5):\n",
        "              img = data\n",
        "              output = model(img)\n",
        "              img=img[0].permute(1,2,0)\n",
        "              img -= img.min()\n",
        "              img /= img.max()\n",
        "              print(recon_batch.shape)\n",
        "              output_img=recon_batch.view(-1,3,32,32)\n",
        "              output_img=output_img[0].permute(1,2,0)\n",
        "              print(output_img.shape)\n",
        "              plt.imshow(img)\n",
        "              plt.show()\n",
        "              plt.imshow(output_img)\n",
        "              plt.show()\n",
        "\n",
        "    # divide the test_loss by the len of the test dataset \n",
        "    test_loss /= len( ___ )\n",
        "    print('====> Test set loss: {:.4f}'.format(test_loss))"
      ],
      "execution_count": 0,
      "outputs": []
    },
    {
      "cell_type": "markdown",
      "metadata": {
        "id": "bRFFC-Anq50g",
        "colab_type": "text"
      },
      "source": [
        "# MAIN LOOP"
      ]
    },
    {
      "cell_type": "code",
      "metadata": {
        "id": "jfaLYIsPpK9e",
        "colab_type": "code",
        "colab": {}
      },
      "source": [
        "# main loop : calls the two main functions of the program\n",
        "for epoch in range(1, EPOCHS + 1):\n",
        "    ___\n",
        "    ___\n",
        "\n",
        "# the loop should display, for every epoch, a bunch of images associated with the reproduction made by the model"
      ],
      "execution_count": 0,
      "outputs": []
    }
  ]
}